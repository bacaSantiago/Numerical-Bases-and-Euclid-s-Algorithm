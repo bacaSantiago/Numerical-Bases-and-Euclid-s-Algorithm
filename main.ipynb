{
 "cells": [
  {
   "cell_type": "markdown",
   "metadata": {},
   "source": [
    "<p> <center> <h1>Numerical Bases and Euclid's Algorithm</h1> </center> </p>\n",
    "\n",
    "<p><h5 align=\"right\"> <i>Santiago Baca - A01656580</i> </h5></p>  \n",
    "\n",
    "### **Numeric Bases**\n",
    "\n",
    "#### *Theorem*:\n",
    "\n",
    "Given a number $b ∈ ℕ$ with $b ≥ 2$ and $n ∈ ℕ$ with $n \\neq 0$, there exist $l ∈ ℕ$ and $d_{0}, d_{1}, ..., unique d_{l} ∈ ℕ$ such that:\n",
    "\n",
    "$$n=d_{0} \\cdot b^0 +d_{1} \\cdot b^1 +...+ d_{l−1} \\cdot b^{l−1} + d_{l} \\cdot b^l$$\n",
    "\n",
    "$d_l \\neq 0$ and for all $0≤i≤l$ we have that $0≤di<b$"
   ]
  },
  {
   "cell_type": "markdown",
   "metadata": {},
   "source": [
    "1. We will first show that such numbers exist. To do this, let's first do it for $b = 7$. Write all the steps to convert $(77)_{10}$ (seventy-seven base 10) to base 7.  \n",
    "\n",
    "$$(77)_{10} = (11 \\cdot 7 + 0) \\cdot 7^0$$\n",
    "$$(77)_{10} = 11 \\cdot 7^1 + 0 \\cdot 7^0$$\n",
    "$$(77)_{10} = (1 \\cdot 7 + 4) \\cdot 7^1 + 0 \\cdot 7^0$$\n",
    "$$(77)_{10} = 1 \\cdot 7^2 + 4 \\cdot 7^1 + 0 \\cdot 7^0$$\n",
    "$$(77)_{10} = (140)_{7}$$"
   ]
  },
  {
   "cell_type": "markdown",
   "metadata": {},
   "source": [
    "2. Now write an algorithm to write any number in base 7.\n",
    "\n",
    "    **Input:** A number $n$ in base 10, where $n \\in \\mathbb{N} $, $ n \\neq 0 $.\n",
    "\n",
    "    **Output:** The base 7 representation of $ n $, of the form $ n = d_{l} \\cdot 7^l + d_{l-1} \\cdot 7^{l-1} + \\ldots + d_{1} \\cdot 7^{1} + d_{0} \\cdot 7^0 $, where $ 0 \\leq d_{i} < 7 $.\n",
    "\n",
    "    *Step 1:* $\\quad$ Divide $ n $ by 7, and the remainder will be $ d_{0} $.  \n",
    "    *Step 2:* $\\quad$ Express $ n $ as $ m_{1} \\cdot 7^1 + d_{0} \\cdot 7^0 $ and observe $ m_{1} $.  \n",
    "    *Step 3:* $\\quad$ If $ 0 \\leq m_{1} < 7 $, take $ m_{1} $ as $ d_{1} $ and finish the algorithm. Otherwise, divide $ m_{1} $ by 7 and the remainder will be $ d_{1} $.   \n",
    "    *Step 4:* $\\quad$ Repeat from step *2* with $ n = m_{1} $. \n",
    "\n",
    "    This algorithm attempts to show that for any $n$ and base $b = 7$, there exist $ l \\in \\mathbb{N} $ and $ d_{0}, d_{1}, \\ldots, d_{l} \\in \\mathbb{N} $ unique that satisfy the given representation. "
   ]
  },
  {
   "cell_type": "markdown",
   "metadata": {},
   "source": [
    "3. Finally, write a general algorithm to write a number in base $b$.\n",
    "\n",
    "    **Input:** A number $n$, where $n \\in \\mathbb{N} $, $ n \\neq 0 $.\n",
    "\n",
    "    **Output:** The representation of $ n $ in base $b \\geq 2$, of the form $ n = d_{l} \\cdot b^l + d_{l-1} \\cdot b^{l- 1} + \\ldots + d_{1} \\cdot b^{1} + d_{0} \\cdot b^0 $, where $ 0 \\leq d_{i} < b $.\n",
    "\n",
    "    *Step 1:* $\\quad$ Initialize $i=0$ and coefficient list $d =[ \\; ]$.  \n",
    "    *Step 2:* $\\quad$ While $n \\neq 0$, do the following steps:  \n",
    "        $\\qquad \\qquad$ a) Calculate the remainder $r$ and integer quotient $c$ by dividing $n$ by $b$.  \n",
    "        $\\qquad \\qquad$ b) Add $r$ to the list of coefficients $d$.  \n",
    "        $\\qquad \\qquad$ c) Update $n = c$.  \n",
    "        $\\qquad \\qquad$ d) Increase $i$ by 1  \n",
    "    *Step 3:* The representation of $n$ in base $b$ is:  \n",
    "        $\\qquad \\qquad$ $n=d_{0} \\cdot b^0 +d_{1} \\cdot b^1 + \\ldots + d_{i−1} \\cdot b^{i−1} + d_{ i} \\cdot b^i$  \n",
    "\n",
    "    This algorithm is valid for any $ n $ and $ b \\geq 2 $. Step 2 is repeated until $n$ becomes 0, accumulating the coefficients $d_{i}$ representing the expansion of $n$ in the base $b$. This also attempts to show that there are unique $ l \\in \\mathbb{N} $ and $ d_{0}, d_{1}, \\ldots, d_{l} \\in \\mathbb{N} $ that satisfy the given representation. "
   ]
  },
  {
   "cell_type": "markdown",
   "metadata": {},
   "source": [
    "4. Now we will prove uniqueness. Let's start with the uniqueness of $l$. Suppose it can be written with two different lengths. Use the fact that $$\\sum_{i=0}^{m-1}(b-1) \\cdot b^i = b^m - 1$$ to show that both representations must have the same length.\n",
    "\n",
    "    Suppose we can write a number $n$ in two different representations in the base $b$ with lengths $l$ and $m$ respectively, where $l \\neq m$. So, we have:\n",
    "\n",
    "    $$ n_1 = d_0 \\cdot b^0 + d_1 \\cdot b^1 + \\ldots + d_{l-1} \\cdot b^{l-1} + d_{l} \\cdot b^l $$\n",
    "    $$ n_2 = d_0^{*} \\cdot b^0 + d_1^{*} \\cdot b^1 + \\ldots + d_{m-1}^{*} \\cdot b^{m-1} + d_{m}^{*} \\cdot b^m $$\n",
    "\n",
    "    Since $l \\neq m$, without loss of generality, let us assume that $l > m$. We subtract the first representation from the second:\n",
    "\n",
    "    $$ n_1 - n_2 = d_0 \\cdot b^0 + d_1 \\cdot b^1 + \\ldots + d_{l-1} \\cdot b^{l-1} + d_{l} \\cdot b^l - (d_0^{*} \\cdot b^0 + d_1^{*} \\cdot b^1 + \\ldots + d_{m-1}^{*} \\cdot b^{m-1} + d_{m}^{*} \\cdot b^m) $$\n",
    "\n",
    "    Which is equivalent to writing it such that:\n",
    "\n",
    "    $$n_1 - n_2 = \\sum_{i=0}^m (d_i - d_i^*) \\cdot b^i + \\sum_{i=m+1}^l d_{i} \\cdot b^i$$\n",
    "\n",
    "    Since, it is clear to see that the difference in terms of the length of terms will be from the term $m+1$ to the $l$ belonging to the expression $n_1$. This can be represented as follows:\n",
    "\n",
    "    $$\\sum_{i=m+1}^{l} b^i \\cdot d_i = d_{m+1} \\cdot b^{m+1} + d_{m+2} \\cdot b^{m+2} + \\ldots + d_{l-1} \\cdot b^{l-1} + d_{l} \\cdot b^l$$\n",
    "\n",
    "    It is also important to note that the result of said summation will be at least the value of the last term of the summation for all values of $b$ and $m$. And in turn, this last term will be at least the value of the first term of the sum. The above can be expressed like this:\n",
    "\n",
    "    $$\\sum_{i=m+1}^{l} b^i \\cdot d_i \\geq b^l \\geq b^{m+1}$$\n",
    "\n",
    "    Now, let's remember our property of the number bases theorem, which states that $0 \\leq d_i < b$. Let's define this expression for our coefficients on $n_1$ and $n_2$:\n",
    "\n",
    "    $$0 \\leq d_i \\leq b-1$$\n",
    "    $$-b+1 \\leq - d_i^* \\leq 0$$\n",
    "\n",
    "    These expressions can be joined in the following way:\n",
    "\n",
    "    $$-b+1 \\leq d_i - d_i^* \\leq b-1$$\n",
    "\n",
    "    Based on the above, we will now estimate the result of the sum of the product of the base with power $i$ by the differences of its coefficients d_i, in terms of its terms of equal length. This, using the given property, corresponding to the convergence of the finite geometric series. \n",
    "\n",
    "    $$\\sum_{i=0}^{m} (d_i - d_i^*) \\cdot b^i \\leq \\sum_{i=0}^{m} (b-1) \\cdot b^i = b^{m+1} - 1 < b^{m+1}$$\n",
    "\n",
    "    Recapitulating, we can gather and summarize the resulting expressions as follows:\n",
    "\n",
    "    $$ \\sum_{i=m+1}^{l} b^i \\cdot d_i \\geq b^l \\geq b^{m+1} > b^{m+1} - 1 \\geq \\sum_{i=0}^{m} (d_i - d_i^*) \\cdot b^i $$\n",
    "\n",
    "    The above expression implies that if two representations of a number $ n $ in the base $ b $ have different lengths $ l \\neq m $, then the sum of the additional terms in the longer representation, starting at $ b^{ m+1} $, is greater than or equal to $ b^l $. At the same time, $ b^l $ is greater than or equal to $ b^{m+1} $ and is strictly greater than the sum of the coefficient differences.\n",
    "\n",
    "    This contradiction suggests that the initial assumption of having two different lengths cannot be valid. Therefore, we conclude that the two representations must have the same length $l = m$ so that $n$ can be correctly represented in the basis $b$. This proves the uniqueness of length $l$.\n",
    "\n",
    "    In summary, the equation highlights that if the lengths differ, then we would be considering different representations of different numbers. "
   ]
  },
  {
   "cell_type": "markdown",
   "metadata": {},
   "source": [
    "5. Now we must make an inductive argument. Suppose we have $n = \\sum _{i=0}^{l}d_i \\cdot b^i = \\sum _{i=0}^{l}d_i^{*} \\cdot b^i$ with $0≤d_i ^{*} < b$ and $0≤di<b$. First argue that $d_0 − d_0^{*}$ is divisible by $b$ and that $d_0 = d_0^{*}$.\n",
    "\n",
    "    Starting from the given equation $n = \\sum _{i=0}^{l}d_i \\cdot b^i = \\sum _{i=0}^{l}d_i^{*} \\cdot b^i$. We will exclude the first term of both sums and we will go through the index of these:\n",
    "\n",
    "    $$d_0 \\cdot b^0 + \\sum_{i=1}^{l}d_i \\cdot b^i = d_0^{*} \\cdot b^0 + \\sum_{i=1}^{l}d_i^{*} \\cdot b^i$$\n",
    "\n",
    "    Let's remember the definition of divisibility:\n",
    "\n",
    "    * **Definition:** We say that $x|y$, where $x,y ∈ \\mathbb{Z}$ if there exists $m ∈ \\mathbb{Z}$ such that $y = m \\cdot x$\n",
    "\n",
    "    So, it is clear to see that $b|d_0$ and $b|d_0^*$. Simplifying the first equation, we have:\n",
    "\n",
    "    $$d_0 - d_0^{*} = \\sum_{i=1}^{l}(d_i^{*} - d_i) \\cdot b^i$$\n",
    "\n",
    "    Since we are interested in demonstrating the divisibility by $b$ of the left side of the equation, we will exclude the first term of $b^i$ from the sum and we will adjust the indices properly to keep its convergence intact.\n",
    "\n",
    "    $$d_0 - d_0^{*} = b \\cdot \\sum_{i=1}^{l}(d_i^{*} - d_i) \\cdot b^{i-1}$$\n",
    "\n",
    "    Since $\\sum _{i=1}^{l}(d_i^{*} - d_i) \\cdot b^{i-1} ∈ \\mathbb{Z} $, let us note that we have the form $y = m \\cdot x$. Therefore: $$b|d_0 - d_0^{*}$$\n",
    "\n",
    "    The above is only possible if $d_0 - d_0^{*}$ is a multiple of $b$. And since, $-b < d_0 - d_0^{*} < b$ this implies that the only multiple of $b$ that satisfies it is $0$. According to property 4 of divisibility seen in class.\n",
    "\n",
    "    Therefore:\n",
    "\n",
    "    $$d_0 - d_0^{*} = 0 \\leftrightarrow d_0 = d_0^{*}$$\n"
   ]
  },
  {
   "cell_type": "markdown",
   "metadata": {},
   "source": [
    "6. Knowing that $d_0 = d_0^{*}$, argue that $d_1 − d_1^{*}$ is divisible by $b$ and therefore $d_1 − d_1^{*} = 0$. (Hint: Show that $d_1 \\cdot b − d_1^{*} \\cdot b$ is divisible by $b^2$).\n",
    "\n",
    "    In a similar way to the previous exercise, we will use $n = \\sum _{i=0}^{l}d_i \\cdot b^i = \\sum _{i=0}^{l}d_i^{*} \\cdot b^i $. We will exclude the first and second terms of both sums and we will go through the index of these:\n",
    "\n",
    "    $$d_0 \\cdot b^0 + d_1 \\cdot b^1 + \\sum_{i=2}^{l}d_i \\cdot b^i = d_0^{*} \\cdot b^0 + d_1^{*} \\cdot b^1 + \\sum_{i=2}^{l}d_i^{*} \\cdot b^i$$\n",
    "\n",
    "    Cancel $d_0$ and $d_0^*$ due to the property $d_0 = d_0^{*}$ tested above; and we simplify the equation\n",
    "\n",
    "    $$(d_1 - d_1^{*}) \\cdot b^1 = \\sum_{i=2}^{l}(d_i^{*} - d_i) \\cdot b^i$$\n",
    "\n",
    "    Just as in the previous exercise, we will exclude the first term of $b^i$ from the sum and we will adjust the indices properly to keep its convergence intact.\n",
    "\n",
    "    $$(d_1 - d_1^{*}) \\cdot b^1 = b^2 \\sum_{i=2}^{l}(d_i^{*} - d_i) \\cdot b^{i-2}$$\n",
    "\n",
    "    Since $\\sum _{i=2}^{l}(d_i^{*} - d_i) \\cdot b^{i-2} ∈ \\mathbb{Z} $, notice that we have the form $y = m \\cdot x$. Therefore: $$b^2|(d_1 - d_1^{*})b$$\n",
    "    \n",
    "    And, simplifying this expression, we will notice that we will arrive at an equation similar to the one in the previous exercise: $$b|d_1 - d_1^{*}$$\n",
    "\n",
    "    The above is only possible if $d_1 - d_1^{*}$ is a multiple of $b$. And since, $-b < d_1 - d_1^{*} < b$ this implies that the only multiple of $b$ that satisfies it is $0$. According to property 4 of divisibility seen in class.\n",
    "\n",
    "    Therefore:\n",
    "\n",
    "    $$d_1 - d_1^{*} = 0 \\leftrightarrow d_1 = d_1^{*}$$\n",
    "\n",
    "    Note that, inductively, we can prove that this occurs for any $d_i$ and $d_i^*$ since the powers can always be canceled for any base $b$ given that $i ∈ \\mathbb{N}$. In this way, we declare that:\n",
    "\n",
    "    $$ d_i = d_i^{*} $$"
   ]
  },
  {
   "cell_type": "markdown",
   "metadata": {},
   "source": [
    "7. Finally, assume that $d_i = d_i^{*}$. argue that $d_{i+1}−d_{i+1}^{*}=0$. With this, the test is complete.\n",
    "\n",
    "    Similar to the previous exercises, we will exclude all previous elements up to index $i+1$ and use $n = \\sum _{i=0}^{l}d_i \\cdot b^i = \\sum _{i=0}^ {l}d_i^{*} \\cdot b^i$. Also going through the index of these, starting from the change of variable $j=i+2$:\n",
    "\n",
    "    $$\\sum_{i=0}^{i} d_i \\cdot b^i + d_{i+1} \\cdot b^{i+1} + \\sum_{j=i+2}^{l}d_j \\cdot b^j = \\sum_{i=0}^{i} d_i^* \\cdot b^i + d_{i+1}^* \\cdot b^{i+1} + \\sum_{j=i+2}^{l}d_j^{*} \\cdot b^j$$\n",
    "\n",
    "    Cancel $\\sum _{i=0}^{i} d_i \\cdot b^i$ and $\\sum _{i=0}^{i} d_i^* \\cdot b^i$ due to the property $d_i = d_i ^{*}$ previously tested; and we simplify the equation\n",
    "    \n",
    "    $$(d_{i+1} - d_{i+1}^{*}) \\cdot b^{i+1} = \\sum_{j=i+2}^{l}(d_j^{*} - d_j) \\cdot b^j$$\n",
    "\n",
    "    Just as in the previous exercises, we will exclude the first term of $b^j$ from the sum and we will adjust the indices properly to keep its convergence intact.\n",
    "\n",
    "    $$(d_{i+1} - d_{i+1}^{*}) \\cdot b^{i+1} = b^{i+2} \\sum_{j=i+2}^{l}(d_j^{*} - d_j) \\cdot b^{j-i-2}$$\n",
    "\n",
    "    Since $\\sum _{j=i+2}^{l}(d_j^{*} - d_j) \\cdot b^{j-i-2} ∈ \\mathbb{Z} $, notice that we have the form $y = m \\cdot x$. Therefore: $$b^{i+2}|(d_{i+1} - d_{i+1}^{*})b^{i+1}$$\n",
    "\n",
    "    And, simplifying said expression, we will again arrive at an equation similar to those already known: $$b|d_{i+1} - d_{i+1}^{*}$$\n",
    "\n",
    "    The above is only possible if $d_{i+1} - d_{i+1}^{*}$ is a multiple of $b$. And since, $-b < d_{i+1} - d_{i+1}^{*} < b$ this implies that the only multiple of $b$ that satisfies it is $0$. According to property 4 of divisibility seen in class.\n",
    "\n",
    "    Therefore:\n",
    "\n",
    "    $$d_{i+1} - d_{i+1}^{*} = 0 \\leftrightarrow d_{i+1} = d_{i+1}^{*}$$"
   ]
  },
  {
   "cell_type": "markdown",
   "metadata": {},
   "source": [
    "### **Algoritmo de Euclides**"
   ]
  },
  {
   "cell_type": "code",
   "execution_count": 1,
   "metadata": {},
   "outputs": [
    {
     "name": "stdout",
     "output_type": "stream",
     "text": [
      "\n",
      "The Greatest Common Divisor (GCD) of 145 and 327 is: 1\n",
      "The coefficients of the linear combination are: (106, -47)\n",
      "Therefore, the GCF can be expressed as: 106*145 + -47*327 = 1\n"
     ]
    }
   ],
   "source": [
    "# Function that implements the extended Euclid algorithm to find the GCD and the linear combination\n",
    "def euclides(a, b):\n",
    "    if b == 0:\n",
    "        # When b is 0, the GCD has been reached, and the GCD, and the coefficients x and y are returned\n",
    "        return a, 1, 0\n",
    "    else:\n",
    "        # Recursive call with arguments (b, a % b)\n",
    "        mcd, x, y = euclides(b, a % b)\n",
    "        # The GCD and the updated x and y coefficients are returned\n",
    "        return mcd, y, x - (a // b) * y\n",
    "\n",
    "def main():\n",
    "    # Enter the two numbers to find their GCD and the linear combination\n",
    "    num1 = int(input(\"Enter the first number: \"))\n",
    "    num2 = int(input(\"Enter the second number: \"))\n",
    "\n",
    "    # Call the euclid function to obtain the GCD and the coefficients\n",
    "    mcd, coeficiente_num1, coeficiente_num2 = euclides(num1, num2)\n",
    "\n",
    "    # Print the result\n",
    "    print(f\"\\nThe Greatest Common Divisor (GCD) of {num1} and {num2} is: {mcd}\")\n",
    "    print(f\"The coefficients of the linear combination are: ({coeficiente_num1}, {coeficiente_num2})\")\n",
    "    print(f\"Therefore, the GCF can be expressed as: {coeficiente_num1}*{num1} + {coeficiente_num2}*{num2} = {mcd}\")\n",
    "\n",
    "if __name__ == \"__main__\":\n",
    "    main()"
   ]
  }
 ],
 "metadata": {
  "kernelspec": {
   "display_name": "base",
   "language": "python",
   "name": "python3"
  },
  "language_info": {
   "codemirror_mode": {
    "name": "ipython",
    "version": 3
   },
   "file_extension": ".py",
   "mimetype": "text/x-python",
   "name": "python",
   "nbconvert_exporter": "python",
   "pygments_lexer": "ipython3",
   "version": "3.9.7"
  }
 },
 "nbformat": 4,
 "nbformat_minor": 2
}
